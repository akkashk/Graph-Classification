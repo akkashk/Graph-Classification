{
 "cells": [
  {
   "cell_type": "code",
   "execution_count": 1,
   "metadata": {},
   "outputs": [
    {
     "name": "stderr",
     "output_type": "stream",
     "text": [
      "Using TensorFlow backend.\n"
     ]
    }
   ],
   "source": [
    "from keras.models import Model\n",
    "from keras.layers import Input, Dense, Lambda, Dropout\n",
    "from keras.optimizers import Adam\n",
    "from keras.regularizers import l2\n",
    "from keras import backend as K\n",
    "import tensorflow as tf\n",
    "import numpy as np\n",
    "from scipy.linalg import sqrtm\n",
    "import utils\n",
    "\n",
    "import scipy.sparse as sp\n",
    "\n",
    "import matplotlib.pyplot as plt"
   ]
  },
  {
   "cell_type": "code",
   "execution_count": 2,
   "metadata": {},
   "outputs": [],
   "source": [
    "def update_metrics(class_num, node_indices, train_mask, y_train):\n",
    "    \"\"\"\n",
    "    We are not adding new nodes/features. We are just increasing the training set size.\n",
    "    \"\"\"\n",
    "    train_mask[node_indices] = True\n",
    "    # Only one level indexing returns a view of numpy array. Two levels of indexing (fancy indexing) returns a copy, so changes\n",
    "    # won't propogate\n",
    "    view = y_train[node_indices]\n",
    "    view[:, class_num] = 1.0\n",
    "    y_train[node_indices] = view\n",
    "    return y_train, train_mask\n",
    "\n",
    "\n",
    "def add_training_data(preds, y_train, train_mask, all_used_nodes, top_n=50):\n",
    "    \"\"\"\n",
    "    Choose top predicted classes and add them to training data\n",
    "    \n",
    "    By doing this, you can also use smaller number of epochs so each iteration is quicker\n",
    "    \"\"\"\n",
    "    pred_classes = np.argmax(preds, axis=1)\n",
    "    class_mask_indices = {} # {class_label: class_mask_indices to use with preds variable}\n",
    "    for class_i in range(7):\n",
    "        class_indices = np.where(pred_classes == class_i)[0]\n",
    "        class_mask_indices[class_i] = np.setdiff1d(class_indices, all_used_nodes)  # So we ignore ones used in train/val/test\n",
    "\n",
    "        t = preds[class_mask_indices[class_i]][:, class_i]\n",
    "\n",
    "        sorted_i = np.argsort(t)[-top_n:]\n",
    "        new_train_indices = class_mask_indices[class_i][sorted_i]\n",
    "\n",
    "        # Add these to adj, features etc. other fields and rerun everything. Iterate this process\n",
    "        y_train, train_mask = update_metrics(class_i, new_train_indices, train_mask, y_train)\n",
    "        all_used_nodes = np.union1d(all_used_nodes, new_train_indices)\n",
    "    return y_train, train_mask, all_used_nodes\n",
    "\n",
    "\n",
    "\n",
    "def add_training_data_2(adj, y_train, train_mask, all_used_nodes, alpha=0.2, top_n=50):\n",
    "    \"\"\"\n",
    "    Use Random Walks to add labelled data\n",
    "    \"\"\"\n",
    "    A = adj.toarray().astype(np.float32)\n",
    "    A += np.eye(A.shape[0])\n",
    "    D = np.diag(np.sum(A, axis=1))\n",
    "    L = D - A\n",
    "    absorp = alpha * np.eye(A.shape[0])\n",
    "    P = np.linalg.inv((L + absorp))\n",
    "    \n",
    "    for class_i in range(7):\n",
    "        labels = y_train[:, class_i]\n",
    "        class_i_indices = np.where(labels)[0]\n",
    "        # P[:, class_i_indices] is N x Num_class_labels shape\n",
    "        p = np.sum(P[:, class_i_indices], axis=1)  # p is a n x 1 vector\n",
    "        p[all_used_nodes] = 0  # Since p is a probability vector, 0 means we will never choose it\n",
    "        sorted_i = np.argsort(p)[-top_n:]\n",
    "        new_train_indices = sorted_i\n",
    "        \n",
    "        y_train, train_mask = update_metrics(class_i, new_train_indices, train_mask, y_train)\n",
    "        all_used_nodes = np.union1d(all_used_nodes, new_train_indices)\n",
    "    return y_train, train_mask, all_used_nodes"
   ]
  },
  {
   "cell_type": "code",
   "execution_count": 3,
   "metadata": {},
   "outputs": [],
   "source": [
    "def accuracy(preds, labels):\n",
    "    return np.mean(np.equal(np.argmax(labels, 1), np.argmax(preds, 1)))\n",
    "\n",
    "def categorical_crossentropy(preds, labels):\n",
    "    return np.mean(-np.log(np.extract(labels, preds)))\n",
    "\n",
    "def evaluate_preds(preds, labels, indices):\n",
    "\n",
    "    split_loss = list()\n",
    "    split_acc = list()\n",
    "\n",
    "    for y_split, idx_split in zip(labels, indices):\n",
    "        split_loss.append(categorical_crossentropy(preds[idx_split], y_split[idx_split]))\n",
    "        split_acc.append(accuracy(preds[idx_split], y_split[idx_split]))\n",
    "\n",
    "    return split_loss, split_acc"
   ]
  },
  {
   "cell_type": "code",
   "execution_count": 4,
   "metadata": {},
   "outputs": [],
   "source": [
    "adj, features, y_train, y_val, y_test, train_mask, val_mask, test_mask = utils.load_data('cora')\n",
    "\n",
    "# Normalise it which changes it to a numpy array. OR manually change it. Not normalising seems to work better\n",
    "features /= features.sum(1).reshape(-1, 1)\n",
    "# features = features.toarray()  # 2708 nodes each with 1433 dimensions"
   ]
  },
  {
   "cell_type": "code",
   "execution_count": 5,
   "metadata": {},
   "outputs": [],
   "source": [
    "train_nodes, val_nodes, test_nodes = np.where(train_mask == True)[0], np.where(val_mask == True)[0], np.where(test_mask == True)[0]\n",
    "all_used_nodes = train_nodes # np.union1d(np.union1d(train_nodes, val_nodes), test_nodes)"
   ]
  },
  {
   "cell_type": "code",
   "execution_count": 5,
   "metadata": {},
   "outputs": [],
   "source": [
    "adj2 = adj + sp.eye(adj.shape[0])\n",
    "d_tilde = np.array(adj2.sum(1))\n",
    "d = sp.diags(np.power(d_tilde, -0.5).flatten(), 0)\n",
    "a_norm = adj2.dot(d).transpose().dot(d).tocsr()\n",
    "\n",
    "Â = a_norm.toarray().astype(np.float32)\n",
    "Â_tensor = tf.convert_to_tensor(Â)"
   ]
  },
  {
   "cell_type": "code",
   "execution_count": 7,
   "metadata": {},
   "outputs": [
    {
     "name": "stdout",
     "output_type": "stream",
     "text": [
      "Number of training points: 140\n",
      "Number of training points: 140\n"
     ]
    }
   ],
   "source": [
    "# Using random walks to increase training data once\n",
    "print(\"Number of training points:\", np.sum(train_mask))\n",
    "# y_train, train_mask, all_used_nodes = add_training_data_2(adj, y_train, train_mask, all_used_nodes, top_n=15)\n",
    "print(\"Number of training points:\", np.sum(train_mask))"
   ]
  },
  {
   "cell_type": "code",
   "execution_count": 7,
   "metadata": {},
   "outputs": [],
   "source": [
    "def get_model():\n",
    "\n",
    "    h1_units = 256  #\n",
    "    num_classes = y_train.shape[1]\n",
    "    inp = Input(shape=(features.shape[1],))\n",
    "#     d1 = Dropout(0.5)(inp)\n",
    "    d1 = inp\n",
    "    lam1 = Lambda(lambda x: K.dot(Â_tensor, x))(d1)  # K.dot is matmul\n",
    "    h1 = Dense(h1_units, activation='relu', kernel_initializer='glorot_uniform', bias_initializer='zeros', kernel_regularizer=l2(5e-4))(lam1)\n",
    "    d2 = Dropout(0.5)(h1)\n",
    "    lam2 = Lambda(lambda x: K.dot(Â_tensor, x))(d2)\n",
    "    out = Dense(num_classes, activation='softmax', kernel_initializer='glorot_uniform', bias_initializer='zeros')(lam2)\n",
    "\n",
    "    model = Model(inputs=inp, outputs=out)\n",
    "    model.compile(loss='categorical_crossentropy', optimizer=Adam(lr=0.01), metrics=['accuracy'])\n",
    "    \n",
    "    return model\n",
    "\n",
    "\n",
    "\n",
    "def get_model_deeper():\n",
    "\n",
    "    h1_units = 64\n",
    "    h2_units = 32\n",
    "    h3_units = 16\n",
    "    num_classes = y_train.shape[1]\n",
    "    \n",
    "    inp = Input(shape=(features.shape[1],))\n",
    "    \n",
    "    d1 = Dropout(0.5)(inp)\n",
    "    lam1 = Lambda(lambda x: K.dot(Â_tensor, x))(d1)  # K.dot is matmul\n",
    "    h1 = Dense(h1_units, activation='relu', kernel_initializer='glorot_uniform', bias_initializer='zeros', kernel_regularizer=l2(5e-4))(lam1)\n",
    "    \n",
    "    \n",
    "    d2 = Dropout(0.5)(h1)\n",
    "    lam2 = Lambda(lambda x: K.dot(Â_tensor, x))(d2)  # K.dot is matmul\n",
    "    h2 = Dense(h2_units, activation='relu', kernel_initializer='glorot_uniform', bias_initializer='zeros', kernel_regularizer=l2(5e-4))(lam2)\n",
    "    \n",
    "    d3 = Dropout(0.5)(h2)\n",
    "    lam3 = Lambda(lambda x: K.dot(Â_tensor, x))(d3)  # K.dot is matmul\n",
    "    h3 = Dense(h3_units, activation='relu', kernel_initializer='glorot_uniform', bias_initializer='zeros', kernel_regularizer=l2(5e-4))(lam3)\n",
    "    \n",
    "    d4 = Dropout(0.5)(h3)\n",
    "    lam4 = Lambda(lambda x: K.dot(Â_tensor, x))(d4)\n",
    "    out = Dense(num_classes, activation='softmax', kernel_initializer='glorot_uniform', bias_initializer='zeros')(lam4)\n",
    "\n",
    "    model = Model(inputs=inp, outputs=out)\n",
    "    model.compile(loss='categorical_crossentropy', optimizer=Adam(lr=0.01), metrics=['accuracy'])\n",
    "    \n",
    "    return model\n",
    "\n",
    "\n",
    "\n",
    "def get_model_deeper_2():\n",
    "\n",
    "    h3_units = 256\n",
    "    h4_units = 256\n",
    "    h5_units = 256\n",
    "    h6_units = 256\n",
    "    h7_units = 256\n",
    "    num_classes = y_train.shape[1]\n",
    "    \n",
    "    inp = Input(shape=(features.shape[1],))\n",
    "    \n",
    "    d3 = inp\n",
    "    lam3 = Lambda(lambda x: K.dot(Â_tensor, x))(d3)  # K.dot is matmul\n",
    "    h3 = Dense(h3_units, activation='relu', kernel_initializer='glorot_uniform', bias_initializer='zeros', kernel_regularizer=l2(5e-4))(lam3)\n",
    "    \n",
    "    d4 = Dropout(0.5)(h3)\n",
    "    lam4 = Lambda(lambda x: K.dot(Â_tensor, x))(d4)\n",
    "    h4 = Dense(h4_units, activation='relu', kernel_initializer='glorot_uniform', bias_initializer='zeros')(lam4)\n",
    "    \n",
    "    d5 = h4\n",
    "    lam5 = Lambda(lambda x: K.dot(Â_tensor, x))(d5)\n",
    "    h5 = Dense(h5_units, activation='relu', kernel_initializer='glorot_uniform', bias_initializer='zeros')(lam5)\n",
    "    \n",
    "    d6 = h5\n",
    "    lam6 = Lambda(lambda x: K.dot(Â_tensor, x))(d6)\n",
    "    h6 = Dense(h6_units, activation='relu', kernel_initializer='glorot_uniform', bias_initializer='zeros')(lam6)\n",
    "    \n",
    "    d7 = h6\n",
    "    lam7 = Lambda(lambda x: K.dot(Â_tensor, x))(d7)\n",
    "    h7 = Dense(h7_units, activation='relu', kernel_initializer='glorot_uniform', bias_initializer='zeros')(lam7)\n",
    "    \n",
    "    d8 = Dropout(0.5)(h7)\n",
    "    lam8 = Lambda(lambda x: K.dot(Â_tensor, x))(d8)\n",
    "    out = Dense(num_classes, activation='softmax', kernel_initializer='glorot_uniform', bias_initializer='zeros')(lam8)\n",
    "\n",
    "    model = Model(inputs=inp, outputs=out)\n",
    "    model.compile(loss='categorical_crossentropy', optimizer=Adam(lr=0.01), metrics=['accuracy'])\n",
    "    \n",
    "    return model\n",
    "\n",
    "\n",
    "def get_model_deeper_2_fix():\n",
    "\n",
    "    h3_units = 256\n",
    "    h4_units = 128\n",
    "    h5_units = 64\n",
    "    h6_units = 32\n",
    "    h7_units = 16\n",
    "    num_classes = y_train.shape[1]\n",
    "    \n",
    "    inp = Input(shape=(features.shape[1],))\n",
    "    \n",
    "#     d3 = Dropout(0.5)(inp)\n",
    "    lam3 = Lambda(lambda x: K.dot(Â_tensor, x))(inp)  # K.dot is matmul\n",
    "    lam4 = Lambda(lambda x: K.dot(Â_tensor, x))(lam3)\n",
    "    lam5 = Lambda(lambda x: K.dot(Â_tensor, x))(lam4)\n",
    "    lam6 = Lambda(lambda x: K.dot(Â_tensor, x))(lam5)\n",
    "    lam7 = Lambda(lambda x: K.dot(Â_tensor, x))(lam6)\n",
    "#     lam8 = Lambda(lambda x: K.dot(Â_tensor, x))(lam7)\n",
    "    \n",
    "    h3 = Dense(h7_units, activation='relu', kernel_initializer='glorot_uniform', bias_initializer='zeros')(lam7)\n",
    "    \n",
    "    d8 = Dropout(0.5)(h3)\n",
    "    lam8 = Lambda(lambda x: K.dot(Â_tensor, x))(d8)\n",
    "    out = Dense(num_classes, activation='softmax', kernel_initializer='glorot_uniform', bias_initializer='zeros')(lam8)\n",
    "\n",
    "    model = Model(inputs=inp, outputs=out)\n",
    "    model.compile(loss='categorical_crossentropy', optimizer=Adam(lr=0.01), metrics=['accuracy'])\n",
    "    \n",
    "    return model"
   ]
  },
  {
   "cell_type": "code",
   "execution_count": 23,
   "metadata": {},
   "outputs": [],
   "source": [
    "def fit_model():\n",
    "    PATIENCE = 10  # early stopping patience\n",
    "    wait = 0\n",
    "    preds = None\n",
    "    best_val_loss = 99999\n",
    "    batch_size = Â.shape[0]\n",
    "    epochs = 400\n",
    "    model = get_model()\n",
    "    initial_mul = 5\n",
    "    \n",
    "    new_features = features\n",
    "    for _ in range(initial_mul):\n",
    "        new_features = np.matmul(Â, new_features)\n",
    "    \n",
    "    accu_ls = []\n",
    "    val_ls = []\n",
    "\n",
    "    for epoch in range(epochs):\n",
    "\n",
    "        model.fit(new_features, y_train, sample_weight=train_mask, batch_size=batch_size, epochs=1, \n",
    "                  shuffle=False, verbose=0)\n",
    "\n",
    "        preds = model.predict(features, batch_size=batch_size)\n",
    "        # CAN ONLY PREDICT ALL THE NODES AT ONCE, CAN'T DO SMALLER THAN BATCH_SIZE\n",
    "\n",
    "        # Train / validation scores\n",
    "        train_val_loss, train_val_acc = evaluate_preds(preds, [y_train, y_val], [train_mask, val_mask])\n",
    "        \n",
    "\n",
    "        val_ls.append(train_val_loss[1])  # Switch to index 1 for validation results and 0 for training results\n",
    "        accu_ls.append(train_val_acc[1])\n",
    "\n",
    "        # Early stopping - Can't use this when using np.array(list of lists). All lists have to be of equal length\n",
    "#         if train_val_loss[1] < best_val_loss:\n",
    "#             best_val_loss = train_val_loss[1]\n",
    "#             wait = 0\n",
    "#         else:\n",
    "#             if wait >= PATIENCE:\n",
    "#                 print('Epoch {}: early stopping'.format(epoch))\n",
    "#                 break\n",
    "#             wait += 1\n",
    "            \n",
    "    return model, accu_ls, val_ls\n",
    "\n",
    "def test_model(model):\n",
    "    batch_size = Â.shape[0]\n",
    "    preds = model.predict(features, batch_size=batch_size)\n",
    "    test_loss, test_acc = evaluate_preds(preds, [y_test], [test_mask])\n",
    "    print(\"Test set results:\",\n",
    "      \"loss= {:.4f}\".format(test_loss[0]),\n",
    "      \"accuracy= {:.4f}\".format(test_acc[0]))\n",
    "    return test_loss[0], test_acc[0]"
   ]
  },
  {
   "cell_type": "code",
   "execution_count": 24,
   "metadata": {
    "scrolled": true
   },
   "outputs": [
    {
     "name": "stdout",
     "output_type": "stream",
     "text": [
      "Test set results: loss= 0.7007 accuracy= 0.7730\n",
      "Test set results: loss= 0.6498 accuracy= 0.7880\n",
      "Test set results: loss= 0.6398 accuracy= 0.7900\n",
      "37.5 s ± 718 ms per loop (mean ± std. dev. of 3 runs, 1 loop each)\n"
     ]
    }
   ],
   "source": [
    "%%timeit -n 1 -r 3\n",
    "RUNS = 1\n",
    "\n",
    "validation_loss_org_multiple = []\n",
    "accuracy_org_multiple = []\n",
    "\n",
    "validation_loss_ext_multiple = []\n",
    "accuracy_ext_multiple = []\n",
    "\n",
    "test_loss_org = []\n",
    "test_acc_org = []\n",
    "\n",
    "test_loss_ext = []\n",
    "test_acc_ext = []\n",
    "\n",
    "for _ in range(RUNS):\n",
    "#     _, _, y_train, _, _, train_mask, _, _ = utils.load_data('cora')\n",
    "#     train_nodes, val_nodes, test_nodes = np.where(train_mask == True)[0], np.where(val_mask == True)[0], np.where(test_mask == True)[0]\n",
    "#     all_used_nodes = np.union1d(np.union1d(train_nodes, val_nodes), test_nodes)\n",
    "\n",
    "    model, accuracy_org, validation_loss_org = fit_model()\n",
    "    loss, accu = test_model(model)\n",
    "    test_loss_org.append(loss)\n",
    "    test_acc_org.append(accu)\n",
    "    \n",
    "    validation_loss_org_multiple.append(validation_loss_org)\n",
    "    accuracy_org_multiple.append(accuracy_org)\n",
    "\n",
    "    # Random walks\n",
    "#     y_train, train_mask, all_used_nodes = add_training_data_2(adj, y_train, train_mask, all_used_nodes, alpha=0.2, top_n=20)\n",
    "\n",
    "#     model, accuracy_ext, validation_loss_ext = fit_model()\n",
    "#     loss, accu = test_model(model)\n",
    "#     test_loss_ext.append(loss)\n",
    "#     test_acc_ext.append(accu)\n",
    "    \n",
    "#     validation_loss_ext_multiple.append(validation_loss_ext)\n",
    "#     accuracy_ext_multiple.append(accuracy_ext)\n",
    "    \n",
    "\n",
    "# Use after training the model\n",
    "# preds = model.predict(features, batch_size=Â.shape[0])\n",
    "# y_train, train_mask, all_used_nodes = add_training_data(preds, y_train, train_mask, all_used_nodes, top_n=15)\n"
   ]
  },
  {
   "cell_type": "code",
   "execution_count": null,
   "metadata": {},
   "outputs": [],
   "source": [
    "1min 30s for 6 layer GCN\n",
    "38s for preprocessing before shallow layer"
   ]
  },
  {
   "cell_type": "code",
   "execution_count": 37,
   "metadata": {},
   "outputs": [
    {
     "data": {
      "image/png": "[encoded data removed]",
      "text/plain": [
       "<matplotlib.figure.Figure at 0x7ffad9d14978>"
      ]
     },
     "metadata": {},
     "output_type": "display_data"
    }
   ],
   "source": [
    "%matplotlib inline\n",
    "\n",
    "plt.plot(np.mean(np.array(validation_loss_org_multiple), axis=0), label='Loss')\n",
    "plt.plot(np.mean(np.array(validation_loss_ext_multiple), axis=0), label='Loss with Random walks')\n",
    "\n",
    "plt.plot(np.mean(np.array(accuracy_org_multiple), axis=0), label='Accuracy')\n",
    "plt.plot(np.mean(np.array(accuracy_ext_multiple), axis=0), label='Accuracy with Random walks')\n",
    "\n",
    "plt.legend()\n",
    "plt.xlabel(\"Epoch\")\n",
    "plt.ylabel(\"Value\")\n",
    "plt.title(\"GCN model with 2 layers\")\n",
    "\n",
    "plt.savefig(\"GCN_extension_comparison.png\", dpi=200)"
   ]
  },
  {
   "cell_type": "code",
   "execution_count": 38,
   "metadata": {},
   "outputs": [
    {
     "name": "stdout",
     "output_type": "stream",
     "text": [
      "Test loss mean: 1.7588361899058025\n",
      "Test accuracy mean: 0.7726666666666667\n",
      "Test loss mean RW: 1.5076955556869507\n",
      "Test accuracy mean RW: 0.7440000000000001\n"
     ]
    }
   ],
   "source": [
    "# 25 nodes added per class for 6 layer GCN\n",
    "print(\"Test loss mean:\", sum(test_loss_org)/len(test_loss_org))\n",
    "\n",
    "print(\"Test accuracy mean:\", sum(test_acc_org)/len(test_acc_org))\n",
    "\n",
    "print(\"Test loss mean RW:\", sum(test_loss_ext)/len(test_loss_ext))\n",
    "\n",
    "print(\"Test accuracy mean RW:\", sum(test_acc_ext)/len(test_acc_ext))"
   ]
  },
  {
   "cell_type": "code",
   "execution_count": 23,
   "metadata": {},
   "outputs": [
    {
     "name": "stdout",
     "output_type": "stream",
     "text": [
      "Test loss mean: 0.6615663369496664\n",
      "Test accuracy mean: 0.7919999999999999\n"
     ]
    }
   ],
   "source": [
    "# 25 nodes added per class\n",
    "print(\"Test loss mean:\", sum(test_loss_org)/len(test_loss_org))\n",
    "\n",
    "print(\"Test accuracy mean:\", sum(test_acc_org)/len(test_acc_org))\n",
    "\n",
    "print(\"Test loss mean RW:\", sum(test_loss_ext)/len(test_loss_ext))\n",
    "\n",
    "print(\"Test accuracy mean RW:\", sum(test_acc_ext)/len(test_acc_ext))"
   ]
  },
  {
   "cell_type": "code",
   "execution_count": null,
   "metadata": {},
   "outputs": [],
   "source": [
    "# 15 nodes added per class\n",
    "test_loss_org = [0.8291, 0.6828, 0.8563, 0.8320, 0.7422]\n",
    "print(\"Test loss mean:\", sum(test_loss_org)/len(test_loss_org))\n",
    "\n",
    "test_acc_org = [0.7890, 0.7990, 0.7760, 0.7740, 0.8010]\n",
    "print(\"Test accuracy mean:\", sum(test_acc_org)/len(test_acc_org))\n",
    "\n",
    "test_loss_ext = [0.9319, 0.7927, 0.8240, 0.7590, 0.8110]\n",
    "print(\"Test loss mean RW:\", sum(test_loss_ext)/len(test_loss_ext))\n",
    "\n",
    "test_acc_ext = [0.7650, 0.7770, 0.7840, 0.8120, 0.7790]\n",
    "print(\"Test accuracy mean RW:\", sum(test_acc_ext)/len(test_acc_ext))"
   ]
  },
  {
   "cell_type": "code",
   "execution_count": 86,
   "metadata": {},
   "outputs": [
    {
     "name": "stdout",
     "output_type": "stream",
     "text": [
      "Epoch 109: early stopping\n"
     ]
    }
   ],
   "source": [
    "PATIENCE = 5  # early stopping patience\n",
    "wait = 0\n",
    "preds = None\n",
    "best_val_loss = 99999\n",
    "batch_size = Â.shape[0]\n",
    "epochs = 200\n",
    "model = get_model()\n",
    "\n",
    "\n",
    "for epoch in range(epochs):\n",
    "\n",
    "    model.fit(features, y_train, sample_weight=train_mask, batch_size=batch_size, epochs=1, \n",
    "              shuffle=False, verbose=0)\n",
    "\n",
    "    preds = model.predict(features, batch_size=batch_size)\n",
    "    # CAN ONLY PREDICT ALL THE NODES AT ONCE, CAN'T DO SMALLER THAN BATCH_SIZE\n",
    "\n",
    "    # Train / validation scores\n",
    "    train_val_loss, train_val_acc = evaluate_preds(preds, [y_train, y_val], [train_mask, val_mask])\n",
    "    \n",
    "    validation_loss_ext.append(train_val_loss[1])\n",
    "    accuracy_ext.append(train_val_acc[1])\n",
    "\n",
    "#     print(\"Epoch: {:04d}\".format(epoch),\n",
    "#               \"train_loss= {:.4f}\".format(train_val_loss[0]),\n",
    "#               \"train_acc= {:.4f}\".format(train_val_acc[0]),\n",
    "#               \"val_loss= {:.4f}\".format(train_val_loss[1]),\n",
    "#               \"val_acc= {:.4f}\".format(train_val_acc[1]))\n",
    "    \n",
    "    # Early stopping\n",
    "    if train_val_loss[1] < best_val_loss:\n",
    "        best_val_loss = train_val_loss[1]\n",
    "        wait = 0\n",
    "    else:\n",
    "        if wait >= PATIENCE:\n",
    "            print('Epoch {}: early stopping'.format(epoch))\n",
    "            break\n",
    "        wait += 1"
   ]
  },
  {
   "cell_type": "code",
   "execution_count": 87,
   "metadata": {},
   "outputs": [
    {
     "name": "stdout",
     "output_type": "stream",
     "text": [
      "Test set results: loss= 1.1100 accuracy= 0.7680\n"
     ]
    }
   ],
   "source": [
    "test_loss, test_acc = evaluate_preds(preds, [y_test], [test_mask])\n",
    "print(\"Test set results:\",\n",
    "      \"loss= {:.4f}\".format(test_loss[0]),\n",
    "      \"accuracy= {:.4f}\".format(test_acc[0]))"
   ]
  },
  {
   "cell_type": "code",
   "execution_count": 85,
   "metadata": {},
   "outputs": [
    {
     "name": "stdout",
     "output_type": "stream",
     "text": [
      "Number of training points: 351\n",
      "Number of training points: 455\n"
     ]
    }
   ],
   "source": [
    "print(\"Number of training points:\", np.sum(train_mask))\n",
    "y_train, train_mask, all_used_nodes = add_training_data(preds, y_train, train_mask, all_used_nodes, top_n=15) # use muliple times\n",
    "print(\"Number of training points:\", np.sum(train_mask))"
   ]
  },
  {
   "cell_type": "markdown",
   "metadata": {},
   "source": [
    "**Advantages seen by using Union method:**\n",
    "\n",
    "You reach greater accuracy quicker.\n",
    "\n",
    "Plot the validation loss function against epoch, you can see that you reach lower loss quicker! Even if accuracy doesn't improve\n",
    "dramatically.\n",
    "\n",
    "You don't want to include a lot of new guessed data points, since this was shown to reduce accuracy in validation set and training set. Show maybe the ideal number of points to include for Cora by some experimenting.\n",
    "\n",
    "Doing the two add_training_data() in different orders gives different convergece results of the loss function. Explain why and show graphs.\n",
    "\n",
    "Try varying depths of GCN and if Union helps in that case\n",
    "\n",
    "From paper: http://www1.se.cuhk.edu.hk/~manchoso/papers/parw-nips12.pdf\n",
    "\n",
    "Setting $\\Lambda = \\alpha I$ makes the absorption rates should be small in the interior but large near the boundary area of the cluster\n",
    "\n",
    "**Average the results of any changes by averaging**"
   ]
  },
  {
   "cell_type": "code",
   "execution_count": null,
   "metadata": {},
   "outputs": [],
   "source": []
  }
 ],
 "metadata": {
  "kernelspec": {
   "display_name": "Python 3",
   "language": "python",
   "name": "python3"
  },
  "language_info": {
   "codemirror_mode": {
    "name": "ipython",
    "version": 3
   },
   "file_extension": ".py",
   "mimetype": "text/x-python",
   "name": "python",
   "nbconvert_exporter": "python",
   "pygments_lexer": "ipython3",
   "version": "3.5.1"
  }
 },
 "nbformat": 4,
 "nbformat_minor": 2
}
